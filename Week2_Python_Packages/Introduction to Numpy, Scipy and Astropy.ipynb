{
 "cells": [
  {
   "cell_type": "markdown",
   "id": "2ad88393",
   "metadata": {},
   "source": [
    "# Introduction to Numpy, Scipy and Astropy\n",
    "\n",
    "Author: Kazi Abu Rousan Intro2Astro 2023 "
   ]
  },
  {
   "cell_type": "markdown",
   "id": "7517763b",
   "metadata": {},
   "source": [
    "## NumPy"
   ]
  },
  {
   "cell_type": "markdown",
   "id": "d64e00d1",
   "metadata": {},
   "source": [
    "NumPy is a python library, which is used all over Scientific Community. We will see a brief introduction to numpy."
   ]
  },
  {
   "cell_type": "markdown",
   "id": "97c20f99",
   "metadata": {},
   "source": [
    "In our case, We will be using NumPy mostly for creating Arrays. But it is not all. NumPy can do wonders. Let's see what they can do."
   ]
  },
  {
   "cell_type": "markdown",
   "id": "5ca5aeeb",
   "metadata": {},
   "source": [
    "### Creating Arrays"
   ]
  },
  {
   "cell_type": "code",
   "execution_count": 1,
   "id": "5aca22be",
   "metadata": {},
   "outputs": [],
   "source": [
    "import numpy as np #used to import library"
   ]
  },
  {
   "cell_type": "markdown",
   "id": "bea2c323",
   "metadata": {},
   "source": [
    "The most easiest way to create a numpy array is to convert a python list into array."
   ]
  },
  {
   "cell_type": "code",
   "execution_count": 2,
   "id": "42a622d6",
   "metadata": {},
   "outputs": [
    {
     "name": "stdout",
     "output_type": "stream",
     "text": [
      "[1, 3, 45, 8] <class 'list'>\n",
      "[ 1  3 45  8] <class 'numpy.ndarray'>\n"
     ]
    }
   ],
   "source": [
    "A = [1,3,45,8]\n",
    "#To convert into numpy array\n",
    "A_np = np.array(A)\n",
    "print(A, type(A))\n",
    "print(A_np, type(A_np))"
   ]
  },
  {
   "cell_type": "code",
   "execution_count": 3,
   "id": "f615cc70-2250-4277-82ab-542b96958a3b",
   "metadata": {},
   "outputs": [
    {
     "name": "stdout",
     "output_type": "stream",
     "text": [
      "[1. 1. 1. ... 1. 1. 1.] 10000\n"
     ]
    }
   ],
   "source": [
    "a_np = np.ones(10000)\n",
    "print(a_np,len(a_np))"
   ]
  },
  {
   "cell_type": "code",
   "execution_count": 4,
   "id": "d5c73f7f-7fe5-45b6-8b42-a65782a896ce",
   "metadata": {},
   "outputs": [
    {
     "name": "stdout",
     "output_type": "stream",
     "text": [
      "array took 0.2009868621826172 milli seconds\n"
     ]
    }
   ],
   "source": [
    "import time\n",
    "start_time = time.time()\n",
    "np.sum(a_np)\n",
    "end_time = time.time()\n",
    "print('array took',(end_time-start_time)*1e3,'milli seconds')"
   ]
  },
  {
   "cell_type": "code",
   "execution_count": 5,
   "id": "93154c6c-1184-4e54-8b72-0c47509f0f5c",
   "metadata": {},
   "outputs": [
    {
     "name": "stdout",
     "output_type": "stream",
     "text": [
      "list took 2.4199485778808594 milli seconds\n"
     ]
    }
   ],
   "source": [
    "a = list(a_np)\n",
    "start_time = time.time()\n",
    "sum(a)\n",
    "end_time = time.time()\n",
    "print('list took',(end_time-start_time)*1e3,'milli seconds')"
   ]
  },
  {
   "cell_type": "code",
   "execution_count": 6,
   "id": "4cb407e1",
   "metadata": {},
   "outputs": [
    {
     "name": "stdout",
     "output_type": "stream",
     "text": [
      "[0. 0. 0. 0. 0. 0. 0. 0. 0. 0.]\n"
     ]
    }
   ],
   "source": [
    "#Some more example\n",
    "a1 = np.array([4,6,8,2])\n",
    "a2 = np.zeros(10)#create array of only zeros\n",
    "print(a2)"
   ]
  },
  {
   "cell_type": "code",
   "execution_count": 7,
   "id": "404a1362",
   "metadata": {},
   "outputs": [
    {
     "name": "stdout",
     "output_type": "stream",
     "text": [
      "[[0. 0.]\n",
      " [0. 0.]]\n"
     ]
    }
   ],
   "source": [
    "a3 = np.zeros([2,2])#create a 2X2 matrix\n",
    "print(a3)"
   ]
  },
  {
   "cell_type": "code",
   "execution_count": 8,
   "id": "0d4c63a1",
   "metadata": {},
   "outputs": [
    {
     "name": "stdout",
     "output_type": "stream",
     "text": [
      "[0.40590897 0.61091988 0.55856456 0.48468377 0.72806677 0.34543358\n",
      " 0.36084448 0.66417936 0.53406147 0.18139361]\n"
     ]
    }
   ],
   "source": [
    "a4 = np.random.random(10)#create an array of random number in 0 to 1\n",
    "print(a4)"
   ]
  },
  {
   "cell_type": "code",
   "execution_count": 9,
   "id": "d8226cce",
   "metadata": {},
   "outputs": [
    {
     "name": "stdout",
     "output_type": "stream",
     "text": [
      "[-1.56959914  0.52905211 -0.41197246 -0.23446155 -1.40928031 -1.30944609\n",
      "  0.86403694  0.18674855 -0.13010314  0.37773384]\n"
     ]
    }
   ],
   "source": [
    "a5 = np.random.randn(10)\n",
    "print(a5)#returns an array of random numbers from normal distribution"
   ]
  },
  {
   "cell_type": "code",
   "execution_count": 10,
   "id": "7a42d479",
   "metadata": {},
   "outputs": [
    {
     "name": "stdout",
     "output_type": "stream",
     "text": [
      "[ 0.          0.52631579  1.05263158  1.57894737  2.10526316  2.63157895\n",
      "  3.15789474  3.68421053  4.21052632  4.73684211  5.26315789  5.78947368\n",
      "  6.31578947  6.84210526  7.36842105  7.89473684  8.42105263  8.94736842\n",
      "  9.47368421 10.        ]\n"
     ]
    }
   ],
   "source": [
    "a6 = np.linspace(0, 10, 20)\n",
    "print(a6)#Create an array containing 20 numbers from 0 to 20(including 20)"
   ]
  },
  {
   "cell_type": "code",
   "execution_count": 11,
   "id": "86795c9a",
   "metadata": {},
   "outputs": [
    {
     "name": "stdout",
     "output_type": "stream",
     "text": [
      "[0.  0.2 0.4 0.6 0.8 1.  1.2 1.4 1.6 1.8 2.  2.2 2.4 2.6 2.8 3.  3.2 3.4\n",
      " 3.6 3.8 4.  4.2 4.4 4.6 4.8 5.  5.2 5.4 5.6 5.8 6.  6.2 6.4 6.6 6.8 7.\n",
      " 7.2 7.4 7.6 7.8 8.  8.2 8.4 8.6 8.8 9.  9.2 9.4 9.6 9.8]\n"
     ]
    }
   ],
   "source": [
    "a7 = np.arange(0, 10, 0.2)\n",
    "print(a7)#create an array containing 0 to 10 (not include 10)\n",
    "#each element of the array will contains elements such that they differe by 0.2"
   ]
  },
  {
   "cell_type": "code",
   "execution_count": 12,
   "id": "674c457b",
   "metadata": {},
   "outputs": [
    {
     "name": "stdout",
     "output_type": "stream",
     "text": [
      "[1.00000000e+00 2.15443469e+01 4.64158883e+02 1.00000000e+04]\n"
     ]
    }
   ],
   "source": [
    "a8 = np.logspace(0,4,num=4,base=10)\n",
    "print(a8)#In linear space, the sequence starts at base ** start \n",
    "#(base to the power of start) and ends with base ** stop (see endpoint below)."
   ]
  },
  {
   "cell_type": "markdown",
   "id": "27f10662",
   "metadata": {},
   "source": [
    "### Accessing data of array and Slicing"
   ]
  },
  {
   "cell_type": "markdown",
   "id": "fe5a64e0",
   "metadata": {},
   "source": [
    "We can access elements of array just like we do for normal lists"
   ]
  },
  {
   "cell_type": "code",
   "execution_count": 16,
   "id": "29be6383",
   "metadata": {},
   "outputs": [
    {
     "name": "stdout",
     "output_type": "stream",
     "text": [
      "[ 0.          0.52631579  1.05263158  1.57894737  2.10526316  2.63157895\n",
      "  3.15789474  3.68421053  4.21052632  4.73684211  5.26315789  5.78947368\n",
      "  6.31578947  6.84210526  7.36842105  7.89473684  8.42105263  8.94736842\n",
      "  9.47368421 10.        ]\n"
     ]
    },
    {
     "data": {
      "text/plain": [
       "1.0526315789473684"
      ]
     },
     "execution_count": 16,
     "metadata": {},
     "output_type": "execute_result"
    }
   ],
   "source": [
    "print(a6)\n",
    "a6[2]#returns (3+1)th data of array"
   ]
  },
  {
   "cell_type": "code",
   "execution_count": 20,
   "id": "ca289d7b",
   "metadata": {},
   "outputs": [
    {
     "data": {
      "text/plain": [
       "8.947368421052632"
      ]
     },
     "execution_count": 20,
     "metadata": {},
     "output_type": "execute_result"
    }
   ],
   "source": [
    "a6[-3]#returns 2nd data from last element"
   ]
  },
  {
   "cell_type": "code",
   "execution_count": 24,
   "id": "8c52e763",
   "metadata": {},
   "outputs": [
    {
     "data": {
      "text/plain": [
       "array([ 0.        ,  3.15789474,  6.31578947,  9.47368421, 12.63157895,\n",
       "       15.78947368, 18.94736842, 22.10526316, 25.26315789, 28.42105263,\n",
       "       31.57894737, 34.73684211, 37.89473684, 41.05263158, 44.21052632,\n",
       "       47.36842105, 50.52631579, 53.68421053, 56.84210526, 60.        ])"
      ]
     },
     "execution_count": 24,
     "metadata": {},
     "output_type": "execute_result"
    }
   ],
   "source": [
    "a6*6#retruns square of all elemets of the array"
   ]
  },
  {
   "cell_type": "code",
   "execution_count": 25,
   "id": "36199a0e",
   "metadata": {},
   "outputs": [
    {
     "data": {
      "text/plain": [
       "array([ 0.        ,  0.50235115,  0.86872962,  0.99996678,  0.86054034,\n",
       "        0.48818921, -0.01630136, -0.5163796 , -0.87668803, -0.99970104,\n",
       "       -0.85212237, -0.47389753,  0.03259839,  0.53027082,  0.88441346,\n",
       "        0.99916962,  0.84347795,  0.4594799 , -0.04888676, -0.54402111])"
      ]
     },
     "execution_count": 25,
     "metadata": {},
     "output_type": "execute_result"
    }
   ],
   "source": [
    "np.sin(a6)#/a6#Compute sinc(x)\n",
    "#Note: (sinx/x) for x = 0 is not defined"
   ]
  },
  {
   "cell_type": "code",
   "execution_count": 26,
   "id": "030c4fd8",
   "metadata": {},
   "outputs": [],
   "source": [
    "import matplotlib.pyplot as plt#let's plot some basic function"
   ]
  },
  {
   "cell_type": "code",
   "execution_count": 29,
   "id": "0df38af1",
   "metadata": {},
   "outputs": [
    {
     "data": {
      "image/png": "[encoded data removed]",
      "text/plain": [
       "<Figure size 432x288 with 1 Axes>"
      ]
     },
     "metadata": {
      "needs_background": "light"
     },
     "output_type": "display_data"
    }
   ],
   "source": [
    "x = np.linspace(0,10,100)\n",
    "y = np.sin(x)\n",
    "plt.plot(x,y)\n",
    "plt.show()"
   ]
  },
  {
   "cell_type": "code",
   "execution_count": 30,
   "id": "5e8c47c7",
   "metadata": {},
   "outputs": [
    {
     "data": {
      "text/plain": [
       "array([1, 2, 3, 4, 5, 6, 7, 8])"
      ]
     },
     "execution_count": 30,
     "metadata": {},
     "output_type": "execute_result"
    }
   ],
   "source": [
    "a = np.array([1,2,3,4,5,6,7,8])\n",
    "a[:]#gives full array"
   ]
  },
  {
   "cell_type": "code",
   "execution_count": 31,
   "id": "179a713f",
   "metadata": {},
   "outputs": [
    {
     "data": {
      "text/plain": [
       "array([3, 4, 5])"
      ]
     },
     "execution_count": 31,
     "metadata": {},
     "output_type": "execute_result"
    }
   ],
   "source": [
    "a[2:5]#returns an array from 2nd indexed element to 4th indexed element of array a"
   ]
  },
  {
   "cell_type": "code",
   "execution_count": 34,
   "id": "ad4403d9",
   "metadata": {},
   "outputs": [
    {
     "data": {
      "text/plain": [
       "array([2, 3, 4, 5, 6, 7])"
      ]
     },
     "execution_count": 34,
     "metadata": {},
     "output_type": "execute_result"
    }
   ],
   "source": [
    "a[1:7:1]# returns an array of elements starting from a[1] to a[7] but with a index gap of 2"
   ]
  },
  {
   "cell_type": "markdown",
   "id": "8a5a73b7",
   "metadata": {},
   "source": [
    "We can also use negative indexes, give it a try."
   ]
  },
  {
   "cell_type": "markdown",
   "id": "e80c1a9b",
   "metadata": {},
   "source": [
    "### Masks and Filtering"
   ]
  },
  {
   "cell_type": "markdown",
   "id": "f4adffed",
   "metadata": {},
   "source": [
    "We can also check conditions using basic logics and filter arrays and also create masks."
   ]
  },
  {
   "cell_type": "code",
   "execution_count": 35,
   "id": "465340fb",
   "metadata": {},
   "outputs": [
    {
     "data": {
      "text/plain": [
       "array([False, False, False,  True,  True,  True,  True])"
      ]
     },
     "execution_count": 35,
     "metadata": {},
     "output_type": "execute_result"
    }
   ],
   "source": [
    "a = np.array([2,4,5,6,7,8,10])\n",
    "a>5"
   ]
  },
  {
   "cell_type": "code",
   "execution_count": 39,
   "id": "7e84c575",
   "metadata": {},
   "outputs": [
    {
     "data": {
      "text/plain": [
       "array([6, 7])"
      ]
     },
     "execution_count": 39,
     "metadata": {},
     "output_type": "execute_result"
    }
   ],
   "source": [
    "a[(a>5) & (a<8)]#Only returns elements which satisfy the conditions"
   ]
  },
  {
   "cell_type": "markdown",
   "id": "58de93ae",
   "metadata": {},
   "source": [
    "We will see mask creation in the matplotlib tutorial"
   ]
  },
  {
   "cell_type": "markdown",
   "id": "559fc48d",
   "metadata": {},
   "source": [
    "### Statistics with numpy"
   ]
  },
  {
   "cell_type": "code",
   "execution_count": 40,
   "id": "b0d28f89",
   "metadata": {},
   "outputs": [],
   "source": [
    "a = np.random.randn(10000)+6"
   ]
  },
  {
   "cell_type": "code",
   "execution_count": 41,
   "id": "75ec4828-e9bc-49c0-9f45-ca6805a6c9b2",
   "metadata": {},
   "outputs": [
    {
     "data": {
      "text/plain": [
       "(array([  18.,  106.,  503., 1446., 2580., 2799., 1769.,  640.,  122.,\n",
       "          17.]),\n",
       " array([2.28555249, 3.0137477 , 3.74194292, 4.47013813, 5.19833335,\n",
       "        5.92652856, 6.65472378, 7.38291899, 8.11111421, 8.83930942,\n",
       "        9.56750464]),\n",
       " <BarContainer object of 10 artists>)"
      ]
     },
     "execution_count": 41,
     "metadata": {},
     "output_type": "execute_result"
    },
    {
     "data": {
      "image/png": "[encoded data removed]",
      "text/plain": [
       "<Figure size 432x288 with 1 Axes>"
      ]
     },
     "metadata": {
      "needs_background": "light"
     },
     "output_type": "display_data"
    }
   ],
   "source": [
    "plt.hist(a)"
   ]
  },
  {
   "cell_type": "code",
   "execution_count": 42,
   "id": "6e7c00ab",
   "metadata": {},
   "outputs": [
    {
     "data": {
      "text/plain": [
       "6.001308945750224"
      ]
     },
     "execution_count": 42,
     "metadata": {},
     "output_type": "execute_result"
    }
   ],
   "source": [
    "np.mean(a)#Find mean of all elements of array a"
   ]
  },
  {
   "cell_type": "code",
   "execution_count": 43,
   "id": "51fb55f3",
   "metadata": {},
   "outputs": [
    {
     "data": {
      "text/plain": [
       "0.9860813619644543"
      ]
     },
     "execution_count": 43,
     "metadata": {},
     "output_type": "execute_result"
    }
   ],
   "source": [
    "np.std(a)#Find standard divison"
   ]
  },
  {
   "cell_type": "code",
   "execution_count": 44,
   "id": "f2d663a2",
   "metadata": {},
   "outputs": [
    {
     "data": {
      "text/plain": [
       "array([1, 3, 6])"
      ]
     },
     "execution_count": 44,
     "metadata": {},
     "output_type": "execute_result"
    }
   ],
   "source": [
    "a = np.array([1,2,3])\n",
    "np.cumsum(a)#Find cumulative sum\n",
    "#1, 1+2, 1+2+3"
   ]
  },
  {
   "cell_type": "markdown",
   "id": "4b6c6758",
   "metadata": {},
   "source": [
    "### Calculus with NumPy"
   ]
  },
  {
   "cell_type": "markdown",
   "id": "af4be984",
   "metadata": {},
   "source": [
    "To perform derivative"
   ]
  },
  {
   "cell_type": "code",
   "execution_count": 45,
   "id": "57cdeae9",
   "metadata": {},
   "outputs": [
    {
     "data": {
      "image/png": "[encoded data removed]",
      "text/plain": [
       "<Figure size 432x288 with 1 Axes>"
      ]
     },
     "metadata": {
      "needs_background": "light"
     },
     "output_type": "display_data"
    }
   ],
   "source": [
    "x = np.linspace(0,10,1000)\n",
    "y = np.sin(x)\n",
    "dy_dx = np.gradient(y,x)#Find derivative\n",
    "plt.plot(x,y,label=r\"$\\sin(x)$\")\n",
    "plt.plot(x,dy_dx,label=r\"$\\frac{d}{dx}\\sin(x)$\")\n",
    "plt.legend()\n",
    "plt.grid()\n",
    "plt.show()"
   ]
  },
  {
   "cell_type": "markdown",
   "id": "c5585272",
   "metadata": {},
   "source": [
    "To perfrom Integration"
   ]
  },
  {
   "cell_type": "code",
   "execution_count": 46,
   "id": "e839704e",
   "metadata": {},
   "outputs": [
    {
     "data": {
      "image/png": "[encoded data removed]",
      "text/plain": [
       "<Figure size 432x288 with 1 Axes>"
      ]
     },
     "metadata": {
      "needs_background": "light"
     },
     "output_type": "display_data"
    }
   ],
   "source": [
    "y_integrate = np.cumsum(y)*(x[1]-x[0])\n",
    "plt.plot(x,y,label=r\"$\\sin(x)$\")\n",
    "plt.plot(x,y_integrate,label=r\"$\\int_0^{10}\\sin(x) dx$\")\n",
    "plt.legend()\n",
    "plt.grid()\n",
    "plt.show()#Comment on the graph of this one"
   ]
  },
  {
   "cell_type": "markdown",
   "id": "fbb13514",
   "metadata": {},
   "source": [
    "### Multidimensional Array"
   ]
  },
  {
   "cell_type": "code",
   "execution_count": 47,
   "id": "c16d06cc",
   "metadata": {},
   "outputs": [
    {
     "data": {
      "text/plain": [
       "array([[ 1, 23,  8],\n",
       "       [ 2,  7,  8],\n",
       "       [ 8,  0,  9]])"
      ]
     },
     "execution_count": 47,
     "metadata": {},
     "output_type": "execute_result"
    }
   ],
   "source": [
    "a1 = np.array([[1,23,8],[2,7,8],[8,0,9]])\n",
    "a1#This is a multidimensional array -- tensor"
   ]
  },
  {
   "cell_type": "code",
   "execution_count": 48,
   "id": "5448b4c1",
   "metadata": {},
   "outputs": [
    {
     "data": {
      "text/plain": [
       "(3, 3)"
      ]
     },
     "execution_count": 48,
     "metadata": {},
     "output_type": "execute_result"
    }
   ],
   "source": [
    "a1.shape#Returns the size along row and column"
   ]
  },
  {
   "cell_type": "markdown",
   "id": "3741d6da",
   "metadata": {},
   "source": [
    "## SciPy (Scientific Python) contains many useful functions that will be useful by scientists. most notable parameter Optimization, integration, interpolation, and signal processing."
   ]
  },
  {
   "cell_type": "markdown",
   "id": "3f67c4f7",
   "metadata": {},
   "source": [
    "### Interpolation of Data"
   ]
  },
  {
   "cell_type": "code",
   "execution_count": 49,
   "id": "b3bcc9bf",
   "metadata": {},
   "outputs": [
    {
     "data": {
      "image/png": "[encoded data removed]",
      "text/plain": [
       "<Figure size 432x288 with 1 Axes>"
      ]
     },
     "metadata": {
      "needs_background": "light"
     },
     "output_type": "display_data"
    }
   ],
   "source": [
    "x = np.linspace(0, 10, 10)\n",
    "y = x**2 * np.sin(x)\n",
    "plt.scatter(x,y)\n",
    "plt.show()"
   ]
  },
  {
   "cell_type": "code",
   "execution_count": 50,
   "id": "6e5783bb",
   "metadata": {},
   "outputs": [],
   "source": [
    "from scipy.interpolate import interp1d\n",
    "\n",
    "f = interp1d(x, y, kind='cubic')#GIVES A CUBIC FUNCTION which goes through each point\n",
    "x_f = np.linspace(0, 10, 100)\n",
    "y_f = f(x_f)"
   ]
  },
  {
   "cell_type": "code",
   "execution_count": 51,
   "id": "cab7b8cc",
   "metadata": {},
   "outputs": [
    {
     "data": {
      "image/png": "[encoded data removed]",
      "text/plain": [
       "<Figure size 432x288 with 1 Axes>"
      ]
     },
     "metadata": {
      "needs_background": "light"
     },
     "output_type": "display_data"
    }
   ],
   "source": [
    "plt.plot(x_f, y_f,ls=\"--\",c=\"Black\")\n",
    "plt.scatter(x, y)\n",
    "plt.show()"
   ]
  },
  {
   "cell_type": "markdown",
   "id": "992834a8",
   "metadata": {},
   "source": [
    "### Curve Fitting"
   ]
  },
  {
   "cell_type": "code",
   "execution_count": 54,
   "id": "c385f213",
   "metadata": {},
   "outputs": [
    {
     "data": {
      "image/png": "[encoded data removed]",
      "text/plain": [
       "<Figure size 432x288 with 1 Axes>"
      ]
     },
     "metadata": {
      "needs_background": "light"
     },
     "output_type": "display_data"
    }
   ],
   "source": [
    "x_data = np.linspace(0, 10, 10)\n",
    "y_data = 3*x_data**2 + 2+np.random.normal(10)*0.01\n",
    "plt.scatter(x_data, y_data); plt.show()"
   ]
  },
  {
   "cell_type": "code",
   "execution_count": 55,
   "id": "ed89a3a1",
   "metadata": {},
   "outputs": [
    {
     "name": "stdout",
     "output_type": "stream",
     "text": [
      "[3.         2.12846115]\n"
     ]
    },
    {
     "data": {
      "text/plain": [
       "[<matplotlib.lines.Line2D at 0x7fb4e0240b80>]"
      ]
     },
     "execution_count": 55,
     "metadata": {},
     "output_type": "execute_result"
    },
    {
     "data": {
      "image/png": "[encoded data removed]",
      "text/plain": [
       "<Figure size 432x288 with 1 Axes>"
      ]
     },
     "metadata": {
      "needs_background": "light"
     },
     "output_type": "display_data"
    }
   ],
   "source": [
    "from scipy.optimize import curve_fit\n",
    "\n",
    "def func(x, a, b):#you can use any function\n",
    "    return a*x**2 + b\n",
    "popt, pcov = curve_fit(func, x_data, y_data, p0=(1,1))\n",
    "print(popt)#first element is a's value, 2nd is b's value\n",
    "\n",
    "plt.scatter(x_data, y_data)\n",
    "plt.plot(x_data,popt[0]*x_data**2 + popt[1],'--', color = 'red')\n"
   ]
  },
  {
   "cell_type": "markdown",
   "id": "9b8ec8e6",
   "metadata": {},
   "source": [
    "Let's see an example similar to the one discussed in the video"
   ]
  },
  {
   "cell_type": "code",
   "execution_count": 56,
   "id": "2e28983a",
   "metadata": {},
   "outputs": [],
   "source": [
    "t_data = np.array([ 0.   ,  0.34482759,  0.68965517,  1.03448276,  1.37931034,\n",
    "        1.72413793,  2.06896552,  2.4137931 ,  2.75862069,  3.10344828,\n",
    "        3.44827586,  3.79310345,  4.13793103,  4.48275862,  4.82758621,\n",
    "        5.17241379,  5.51724138,  5.86206897,  6.20689655,  6.55172414,\n",
    "        6.89655172,  7.24137931,  7.5862069 ,  7.93103448,  8.27586207,\n",
    "        8.62068966,  8.96551724,  9.31034483,  9.65517241, 10.        ])\n",
    "y_data = np.array([ 4.3303953 ,  1.61137995, -2.15418696, -3.90137249, -1.67259042,\n",
    "        2.16884383,  3.86635998,  1.85194506, -1.8489224 , -3.96560495,\n",
    "       -2.13385255,  1.59425817,  4.06145238,  1.89300594, -1.76870297,\n",
    "       -4.26791226, -2.46874133,  1.37019912,  4.24945607,  2.27038039,\n",
    "       -1.50299303, -3.46774049, -2.50845488,  1.20022052,  3.81633703,\n",
    "        2.91511556, -1.24569189, -3.72716214, -2.54549857,  0.87262548])"
   ]
  },
  {
   "cell_type": "code",
   "execution_count": 57,
   "id": "e46cf7ba",
   "metadata": {},
   "outputs": [
    {
     "data": {
      "image/png": "[encoded data removed]",
      "text/plain": [
       "<Figure size 432x288 with 1 Axes>"
      ]
     },
     "metadata": {
      "needs_background": "light"
     },
     "output_type": "display_data"
    }
   ],
   "source": [
    "plt.plot(t_data,y_data,'o--',c=\"Red\")\n",
    "plt.show()"
   ]
  },
  {
   "cell_type": "markdown",
   "id": "5d88486b",
   "metadata": {},
   "source": [
    "We can see and give some guess values."
   ]
  },
  {
   "cell_type": "markdown",
   "id": "19740c93",
   "metadata": {},
   "source": [
    "$A = 4$, $\\phi = 0$ and $T\\approx 2$"
   ]
  },
  {
   "cell_type": "code",
   "execution_count": 58,
   "id": "5cd2fa22",
   "metadata": {},
   "outputs": [
    {
     "data": {
      "text/plain": [
       "array([3.94836218, 2.99899521, 0.10411349])"
      ]
     },
     "execution_count": 58,
     "metadata": {},
     "output_type": "execute_result"
    }
   ],
   "source": [
    "from scipy.optimize import curve_fit\n",
    "\n",
    "def func(x, A, w, phi):\n",
    "    return A*np.cos(w*x+phi)\n",
    "\n",
    "popt, pcov = curve_fit(func, t_data, y_data, p0=(4, np.pi, 0))\n",
    "popt"
   ]
  },
  {
   "cell_type": "markdown",
   "id": "eb6eec7b",
   "metadata": {},
   "source": [
    "We are getting almost same value!!"
   ]
  },
  {
   "cell_type": "code",
   "execution_count": 59,
   "id": "1d8ee3e5",
   "metadata": {},
   "outputs": [],
   "source": [
    "A, w, phi = popt"
   ]
  },
  {
   "cell_type": "code",
   "execution_count": 60,
   "id": "69e1770b",
   "metadata": {},
   "outputs": [],
   "source": [
    "t = np.linspace(0, 10, 100)\n",
    "y = func(t, A, w, phi)"
   ]
  },
  {
   "cell_type": "code",
   "execution_count": 61,
   "id": "59228811",
   "metadata": {},
   "outputs": [
    {
     "data": {
      "image/png": "[encoded data removed]",
      "text/plain": [
       "<Figure size 432x288 with 1 Axes>"
      ]
     },
     "metadata": {
      "needs_background": "light"
     },
     "output_type": "display_data"
    }
   ],
   "source": [
    "plt.scatter(t_data,y_data)\n",
    "plt.plot(t,y,color=\"Red\",ls=\"--\")\n",
    "plt.show()"
   ]
  },
  {
   "cell_type": "markdown",
   "id": "8fdf1f1e",
   "metadata": {},
   "source": [
    "So, It nicely agrees with the data"
   ]
  },
  {
   "cell_type": "markdown",
   "id": "ad4ab2ee",
   "metadata": {},
   "source": [
    "### Special Functions"
   ]
  },
  {
   "cell_type": "markdown",
   "id": "dd392205",
   "metadata": {},
   "source": [
    "In physics, we many times need some special functions like bessel function, Legendre and many more. This things can also be accessed using scipy."
   ]
  },
  {
   "cell_type": "code",
   "execution_count": 62,
   "id": "d1852536",
   "metadata": {},
   "outputs": [
    {
     "data": {
      "image/png": "[encoded data removed]",
      "text/plain": [
       "<Figure size 432x288 with 1 Axes>"
      ]
     },
     "metadata": {
      "needs_background": "light"
     },
     "output_type": "display_data"
    }
   ],
   "source": [
    "from scipy.special import legendre\n",
    "x = np.linspace(0, 1, 100)\n",
    "plt.plot(x, legendre(6)(x))\n",
    "plt.show()"
   ]
  },
  {
   "cell_type": "code",
   "execution_count": 63,
   "id": "a5d211aa",
   "metadata": {},
   "outputs": [
    {
     "data": {
      "image/png": "[encoded data removed]",
      "text/plain": [
       "<Figure size 432x288 with 1 Axes>"
      ]
     },
     "metadata": {
      "needs_background": "light"
     },
     "output_type": "display_data"
    }
   ],
   "source": [
    "for i in range(6):\n",
    "    plt.plot(x, legendre(i)(x),label=r\"$J_%s$\"%i)\n",
    "plt.legend()\n",
    "plt.show()"
   ]
  },
  {
   "cell_type": "markdown",
   "id": "4060bdcf",
   "metadata": {},
   "source": [
    "## Astropy"
   ]
  },
  {
   "cell_type": "markdown",
   "id": "3e622058",
   "metadata": {},
   "source": [
    "**Astropy** is a community-driven Python package containing many tools and functions that are useful for doing astronomy and astrophysics, from observation planning, data reduction and data analysis to modelling and numerical calculations."
   ]
  },
  {
   "cell_type": "markdown",
   "id": "6cff17d3",
   "metadata": {},
   "source": [
    "To install it run `pip install astropy`"
   ]
  },
  {
   "cell_type": "markdown",
   "id": "7abeacce",
   "metadata": {},
   "source": [
    "Astropy has many features. But let's start with the simplest ones."
   ]
  },
  {
   "cell_type": "markdown",
   "id": "5ed41bba",
   "metadata": {},
   "source": [
    "### Constants and Unit Convertion"
   ]
  },
  {
   "cell_type": "markdown",
   "id": "02b896b1",
   "metadata": {},
   "source": [
    "The most important thing to do before start learning Astronomy, we have to learn about basic things. Like what are the unit used and values of different useful constants."
   ]
  },
  {
   "cell_type": "markdown",
   "id": "21082484",
   "metadata": {},
   "source": [
    "Astronomical quantities are often given in a variety of non-SI units. Besides the strange negative-logarithmic flux units of magnitudes (originating in Ancient Greece), for historical reasons, astronomers often work with cm and g instead of m and kg. There are also a wide range of units for expressing important astrophysical quantities in more ‘manageable’ amounts, such as the parsec (pc) or Astronomical Unit (AU) for distance, the solar mass unit ($M_⊙$) or useful composite units, such as the solar luminosity ($L_⊙$). Calculations using different units, or converting between units, can be made much easier using Astropy’s units sub-package."
   ]
  },
  {
   "cell_type": "code",
   "execution_count": null,
   "id": "f383747f",
   "metadata": {
    "scrolled": true
   },
   "outputs": [],
   "source": [
    "from astropy import constants as const #import the constants submodule of astropy\n",
    "print(const.G)"
   ]
  },
  {
   "cell_type": "code",
   "execution_count": null,
   "id": "de82a8b0",
   "metadata": {
    "scrolled": true
   },
   "outputs": [],
   "source": [
    "print(const.M_sun)"
   ]
  },
  {
   "cell_type": "code",
   "execution_count": null,
   "id": "23c00640",
   "metadata": {
    "scrolled": true
   },
   "outputs": [],
   "source": [
    "print(const.M_earth)"
   ]
  },
  {
   "cell_type": "code",
   "execution_count": null,
   "id": "1a6d80ec",
   "metadata": {},
   "outputs": [],
   "source": [
    "print(const.R_earth)"
   ]
  },
  {
   "cell_type": "markdown",
   "id": "20a0a4ef",
   "metadata": {},
   "source": [
    "Let's try and find earth's semi-major axis using this constants and Kepler's Law. Let me remind you guys what is Kepler's 3rd Law.\n",
    "$$ T^2 = \\frac{4\\pi^2}{G(M+m)}a^3$$\n",
    "where a is the semi-major axis length, M is the mass of the star, m is the mass of the planet and T is the time period. Using this,"
   ]
  },
  {
   "cell_type": "code",
   "execution_count": null,
   "id": "d8301484",
   "metadata": {},
   "outputs": [],
   "source": [
    "import numpy as np\n",
    "from astropy import units as u # To make units correct. Just wait we will learn this\n",
    "def semi_major_calc(T,M,m):\n",
    "    return np.cbrt((T**2*const.G*(m+M))/(4*np.pi))"
   ]
  },
  {
   "cell_type": "code",
   "execution_count": null,
   "id": "75200ede",
   "metadata": {},
   "outputs": [],
   "source": [
    "T = 365*24*3600*u.s#Convert time period into sec\n",
    "m = const.M_earth\n",
    "M = const.M_sun\n",
    "semi_major_calc(T,M,m)"
   ]
  },
  {
   "cell_type": "markdown",
   "id": "58a52034",
   "metadata": {},
   "source": [
    "After using constants, we have to learn how to use proper units to get the answers with correct units. Also, if we learn using astropy for calculating units, then we don't have to calculate things like **how many sec are there in 1 year** by ourselves. (We are so lazy)"
   ]
  },
  {
   "cell_type": "code",
   "execution_count": null,
   "id": "b65234b9",
   "metadata": {
    "scrolled": true
   },
   "outputs": [],
   "source": [
    "from astropy import units as u# To access the unit tools\n",
    "print(const.c)"
   ]
  },
  {
   "cell_type": "code",
   "execution_count": null,
   "id": "e3900534",
   "metadata": {
    "scrolled": true
   },
   "outputs": [],
   "source": [
    "print(const.c.to('km/s'))#converts speed of light from m/s to km/s"
   ]
  },
  {
   "cell_type": "code",
   "execution_count": null,
   "id": "0c0a4f20",
   "metadata": {},
   "outputs": [],
   "source": [
    "const.c.cgs #WE can also directly access values in cgs unit"
   ]
  },
  {
   "cell_type": "code",
   "execution_count": null,
   "id": "3efcb403",
   "metadata": {
    "scrolled": true
   },
   "outputs": [],
   "source": [
    "print(const.h)\n",
    "print(const.h.to('MeV'))#If conversion is not possible then it will show error"
   ]
  },
  {
   "cell_type": "code",
   "execution_count": null,
   "id": "66f6a63c",
   "metadata": {
    "scrolled": true
   },
   "outputs": [],
   "source": [
    "#Lets find rest-mass energy of electron\n",
    "#My teacher is going to beat me for using rest-mass\n",
    "E_0 = const.m_e*const.c**2#electron's mass\n",
    "print(E_0)\n",
    "E_0.to('MeV')"
   ]
  },
  {
   "cell_type": "markdown",
   "id": "25c15903",
   "metadata": {},
   "source": [
    "If we have some scalar, we can add units to it"
   ]
  },
  {
   "cell_type": "code",
   "execution_count": null,
   "id": "a5258b97",
   "metadata": {
    "scrolled": true
   },
   "outputs": [],
   "source": [
    "a = 2\n",
    "print(a)\n",
    "print(a*(u.m/u.s))#make it 2m/s -- velocity"
   ]
  },
  {
   "cell_type": "markdown",
   "id": "c6b36aef",
   "metadata": {},
   "source": [
    "### Astronomical Positions"
   ]
  },
  {
   "cell_type": "markdown",
   "id": "3307a97c",
   "metadata": {},
   "source": [
    "After learning units and values, we have to know positions or else forget about doing calculations. This can also be done using Astropy.\n",
    "\n",
    "The coordinate commonly used are ICRS (Right ascension [RA], Declination [Dec]). A diagram is given below to remind you guys what they means."
   ]
  },
  {
   "cell_type": "markdown",
   "id": "43b61a06",
   "metadata": {},
   "source": [
    "[![Alt text](https://useruploads.socratic.org/a9leQTIXQW69VgzHjSc9_Ra_and_dec_on_celestial_sphere.png)](coordinate)"
   ]
  },
  {
   "cell_type": "markdown",
   "id": "66f27b4f",
   "metadata": {},
   "source": [
    "Let's try to see how we can get the position of **Betelgeuse**.\n",
    "\n",
    "Betelgeuse is a red supergiant star of spectral type M1-2 and one of the largest visible to the naked eye. It is usually the tenth-brightest star in the night sky and, after Rigel, the second-brightest in the constellation of Orion. It is a distinctly reddish, semiregular variable star whose apparent magnitude, varying between +0.0 and +1.6, has the widest range displayed by any first-magnitude star. At near-infrared wavelengths, Betelgeuse is the brightest star in the night sky. Its Bayer designation is α Orionis, Latinised to Alpha Orionis and abbreviated Alpha Ori or α Ori."
   ]
  },
  {
   "cell_type": "code",
   "execution_count": null,
   "id": "83fb9a54",
   "metadata": {},
   "outputs": [],
   "source": [
    "from astropy.coordinates import SkyCoord #skycoord is used to use celestrial coordinates.\n",
    "bet = SkyCoord.from_name('Betelgeuse')\n",
    "print(bet)"
   ]
  },
  {
   "cell_type": "markdown",
   "id": "6792a156",
   "metadata": {},
   "source": [
    "We can individuallty access the values."
   ]
  },
  {
   "cell_type": "code",
   "execution_count": null,
   "id": "0c3284e8",
   "metadata": {},
   "outputs": [],
   "source": [
    "dec_val = bet.dec\n",
    "print(dec_val)# gives values in degrees, arc-min, arc-sec"
   ]
  },
  {
   "cell_type": "markdown",
   "id": "a9302664",
   "metadata": {},
   "source": [
    "We can also create our own coordinate values."
   ]
  },
  {
   "cell_type": "code",
   "execution_count": null,
   "id": "869fbd23",
   "metadata": {},
   "outputs": [],
   "source": [
    "test_coord = SkyCoord(ra=10.625*u.degree, dec=41.2*u.degree, frame='icrs')\n",
    "print(test_coord)"
   ]
  },
  {
   "cell_type": "code",
   "execution_count": null,
   "id": "6666690b",
   "metadata": {},
   "outputs": [],
   "source": [
    "c = SkyCoord('00h42m30s', '+41d12m00s', frame='icrs')\n",
    "print(c)\n",
    "c = SkyCoord('00h42.5m', '+41d12m')\n",
    "print(c)\n",
    "c = SkyCoord('00 42 30 +41 12 00', unit=(u.hourangle, u.deg))\n",
    "print(c)\n",
    "c = SkyCoord('00:42.5 +41:12', unit=(u.hourangle, u.deg))\n",
    "print(c)#WE can use different ways to create the same thing"
   ]
  },
  {
   "cell_type": "code",
   "execution_count": null,
   "id": "8092929b",
   "metadata": {},
   "outputs": [],
   "source": [
    "#using this on numpy arrays\n",
    "c = SkyCoord(ra=[10, 11, 12, 13]*u.degree, dec=[41, -5, 42, 0]*u.degree)\n",
    "c"
   ]
  },
  {
   "cell_type": "markdown",
   "id": "21d703ce",
   "metadata": {},
   "source": [
    "### Using FITS"
   ]
  },
  {
   "cell_type": "markdown",
   "id": "9ccb9217",
   "metadata": {},
   "source": [
    "FITS means **Flexible Image Transport System**. It is a file format designed by astronomers. It can store images and tables (ASCII and Binary). A given file can have both - this allows one to attach tabular data directly to images (like catalog of photometry)."
   ]
  },
  {
   "cell_type": "markdown",
   "id": "df25f03e",
   "metadata": {},
   "source": [
    "Let's see few examples."
   ]
  },
  {
   "cell_type": "code",
   "execution_count": null,
   "id": "0161161b",
   "metadata": {},
   "outputs": [],
   "source": [
    "from astropy.io import fits #to use fits files\n",
    "h = fits.open('example_data.fits')"
   ]
  },
  {
   "cell_type": "code",
   "execution_count": null,
   "id": "bd2bd322",
   "metadata": {
    "scrolled": true
   },
   "outputs": [],
   "source": [
    "# This is a special type of list.\n",
    "# Supports more or less all list operations.\n",
    "# And some more (like writeto)\n",
    "print(type(h))"
   ]
  },
  {
   "cell_type": "code",
   "execution_count": null,
   "id": "4702f52b",
   "metadata": {
    "scrolled": true
   },
   "outputs": [],
   "source": [
    "# HDUList contains HDU objects.\n",
    "print(type(h[0]))\n",
    "print(h.info())"
   ]
  },
  {
   "cell_type": "markdown",
   "id": "e69d1fc8",
   "metadata": {},
   "source": [
    "So, this simple file contains just one HDU which has 71 entries in its header (cards) and data which has dimensions $512 x 512$.\n",
    "\n",
    "Let's now see how the header of a given HDU can be examined. For convenience, we will create a variable pointing to it."
   ]
  },
  {
   "cell_type": "code",
   "execution_count": null,
   "id": "7bd7fdb6",
   "metadata": {},
   "outputs": [],
   "source": [
    "header = h[0].header\n",
    "print(header.cards)"
   ]
  },
  {
   "cell_type": "code",
   "execution_count": null,
   "id": "d6d6d8db",
   "metadata": {},
   "outputs": [],
   "source": [
    "data = h[0].data\n",
    "print(type(data))#Access data"
   ]
  },
  {
   "cell_type": "code",
   "execution_count": null,
   "id": "fa39922c",
   "metadata": {},
   "outputs": [],
   "source": [
    "import matplotlib.pyplot as plt\n",
    "plt.imshow(np.log(data))\n",
    "plt.show()"
   ]
  },
  {
   "cell_type": "markdown",
   "id": "fad90d95",
   "metadata": {},
   "source": [
    "Astropy has some feature to make it more nice and prominent."
   ]
  },
  {
   "cell_type": "code",
   "execution_count": null,
   "id": "db399655",
   "metadata": {},
   "outputs": [],
   "source": [
    "from astropy.visualization import ZScaleInterval\n",
    "z = ZScaleInterval()\n",
    "z1, z2 = z.get_limits(data)\n",
    "fig, axes = plt.subplots(nrows=1, ncols=2)\n",
    "axes[0].imshow(data, vmin=z1, vmax=z2)\n",
    "axes[1].imshow(data.T, vmin=z1, vmax=z2)\n",
    "plt.show()"
   ]
  },
  {
   "cell_type": "markdown",
   "id": "b8ccb1df",
   "metadata": {},
   "source": [
    "This are just few things, I have shown. There are many things we can do using Astropy.\n",
    "\n",
    "For more check this references."
   ]
  },
  {
   "cell_type": "markdown",
   "id": "fc2c02e8",
   "metadata": {},
   "source": [
    "1. Introduction to Scientific Computing in Python by Robert Johansson\n",
    "2. Numerical Python in Astronomy and Astrophysics by W.Schmidt and M.Volschow\n",
    "3. For Numpy  : https://numpy.org/learn/\n",
    "4. For Scipy  : https://docs.scipy.org/doc/scipy/tutorial/index.html\n",
    "5. For Astropy: https://docs.astropy.org/en/stable/index.html#getting-started"
   ]
  },
  {
   "cell_type": "markdown",
   "id": "2c88bff9",
   "metadata": {},
   "source": [
    "Hope you all enjoyed"
   ]
  },
  {
   "cell_type": "code",
   "execution_count": null,
   "id": "e25da969-1f13-4550-8ca0-f7d310f5f328",
   "metadata": {},
   "outputs": [],
   "source": []
  },
  {
   "cell_type": "code",
   "execution_count": null,
   "id": "1c17d153-1069-4756-a18f-ba5131d61b6c",
   "metadata": {},
   "outputs": [],
   "source": []
  },
  {
   "cell_type": "code",
   "execution_count": null,
   "id": "b8c4ded2-f67d-4cb4-ab2d-38f2fa5521ef",
   "metadata": {},
   "outputs": [],
   "source": []
  },
  {
   "cell_type": "code",
   "execution_count": null,
   "id": "7162c3e6-ea6e-4cd9-84d9-f7095df7e03a",
   "metadata": {},
   "outputs": [],
   "source": []
  },
  {
   "cell_type": "code",
   "execution_count": null,
   "id": "78947544-59ea-498e-9610-7765c31878fc",
   "metadata": {},
   "outputs": [],
   "source": []
  }
 ],
 "metadata": {
  "kernelspec": {
   "display_name": "Python 3 (ipykernel)",
   "language": "python",
   "name": "python3"
  },
  "language_info": {
   "codemirror_mode": {
    "name": "ipython",
    "version": 3
   },
   "file_extension": ".py",
   "mimetype": "text/x-python",
   "name": "python",
   "nbconvert_exporter": "python",
   "pygments_lexer": "ipython3",
   "version": "3.9.7"
  }
 },
 "nbformat": 4,
 "nbformat_minor": 5
}
